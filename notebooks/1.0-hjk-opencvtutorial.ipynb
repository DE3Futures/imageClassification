{
 "cells": [
  {
   "cell_type": "markdown",
   "metadata": {},
   "source": [
    "# Open CV tutorial\n",
    "\n",
    "Tutorial: https://learnopencv.com/age-gender-classification-using-opencv-deep-learning-c-python/ \n",
    "\n",
    "Data from: https://talhassner.github.io/home/projects/Adience/Adience-data.html#agegender\n",
    "\n",
    "The code is divided into four parts:\n",
    "1. Detect Faces\n",
    "2. Detect Gender\n",
    "3. Detect Age\n",
    "4. Display output"
   ]
  },
  {
   "cell_type": "code",
   "execution_count": 1,
   "metadata": {},
   "outputs": [],
   "source": [
    "import cv2"
   ]
  }
 ],
 "metadata": {
  "interpreter": {
   "hash": "8944ac20941febd3898b0b9a08c0e7cafc7c4835a26d6ed6b5e365f07f1b2728"
  },
  "kernelspec": {
   "display_name": "Python 3.8.3 ('base')",
   "language": "python",
   "name": "python3"
  },
  "language_info": {
   "codemirror_mode": {
    "name": "ipython",
    "version": 3
   },
   "file_extension": ".py",
   "mimetype": "text/x-python",
   "name": "python",
   "nbconvert_exporter": "python",
   "pygments_lexer": "ipython3",
   "version": "3.8.6"
  },
  "orig_nbformat": 4
 },
 "nbformat": 4,
 "nbformat_minor": 2
}

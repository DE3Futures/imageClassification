{
 "cells": [
  {
   "cell_type": "markdown",
   "metadata": {},
   "source": [
    "# Open CV tutorial\n",
    "\n",
    "Tutorial: https://learnopencv.com/age-gender-classification-using-opencv-deep-learning-c-python/ \n",
    "\n",
    "Data from: https://talhassner.github.io/home/projects/Adience/Adience-data.html#agegender\n",
    "\n",
    "The code is divided into four parts:\n",
    "1. Detect Faces\n",
    "2. Detect Gender\n",
    "3. Detect Age\n",
    "4. Display output"
   ]
  }
 ],
 "metadata": {
  "language_info": {
   "name": "python"
  },
  "orig_nbformat": 4
 },
 "nbformat": 4,
 "nbformat_minor": 2
}
